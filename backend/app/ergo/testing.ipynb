{
 "cells": [
  {
   "cell_type": "code",
   "execution_count": 2,
   "metadata": {},
   "outputs": [],
   "source": [
    "import requests\n",
    "\n",
    "from address import Address # python wrapper for ERGO address class\n",
    "from base64 import b64encode"
   ]
  },
  {
   "cell_type": "code",
   "execution_count": 3,
   "metadata": {},
   "outputs": [],
   "source": [
    "buyerAddress   = '3WzKopFYhfRGPaUvC7v49DWgeY1efaCD3YpNQ6FZGr2t5mBhWjmw'\n",
    "buyer_key      = 'goalspentchillyamber ' # setup for node; assembler uses this\n",
    "ergopadAddress = '3WwjaerfwDqYvFwvPRVJBJx2iUvCjD2jVpsL82Zho1aaV5R95jsG'\n",
    "ergopad_key    = 'oncejournalstrangeweather ' # setup for node; assembler uses this\n",
    "\n",
    "HOST = 'localhost' # '10.0.0.134'\n",
    "ergonode = f'http://{HOST}:9052'\n",
    "buyernode = f'http://{HOST}:9054'\n",
    "\n",
    "wallet_transaction_generateUnsigned = f'{ergonode}/wallet/transaction/generateUnsigned'\n",
    "wallet_transaction_generate = f'{ergonode}/wallet/transaction/generate'\n",
    "wallet_transaction_sign = f'{ergonode}/wallet/transaction/sign'\n",
    "wallet_transaction_send = f'{ergonode}/wallet/transaction/send'\n",
    "\n",
    "buyer_transaction_generateUnsigned = f'{buyernode}/wallet/transaction/generateUnsigned'\n",
    "buyer_transaction_generate = f'{buyernode}/wallet/transaction/generate'\n",
    "buyer_transaction_sign = f'{buyernode}/wallet/transaction/sign'\n",
    "buyer_transaction_send = f'{buyernode}/wallet/transaction/send'\n",
    "\n",
    "ergo_info = f'{ergonode}/info'\n",
    "headers       = {'Content-Type': 'application/json'}\n",
    "\n",
    "# wallet to expect funding from\n",
    "ergopadWallet  = Address(ergopadAddress)\n",
    "buyerWallet    = Address(buyerAddress)\n",
    "minTx          = 10000000\n",
    "txFee          = 0 # 2000000\n",
    "nanoergsInErg  = 1000000000     # 1e9"
   ]
  },
  {
   "cell_type": "markdown",
   "metadata": {},
   "source": [
    "# Generate Unsigned Transaction "
   ]
  },
  {
   "cell_type": "code",
   "execution_count": 27,
   "metadata": {},
   "outputs": [
    {
     "name": "stdout",
     "output_type": "stream",
     "text": [
      "{'tx': {'id': '540b7d8eb7bfd9a4ae2102983bf7a8d10f2511c0e78f92aa3c76088994b25b4e', 'inputs': [{'boxId': '93af1eee7e69a4ec5fb8be448c5bbdcbba01c41e24a1135650ed24bee6dea7da', 'extension': {}}], 'dataInputs': [], 'outputs': [{'boxId': 'af0ac46cbb4853df6cfb4e776efe454442b9fba4eb49b823750df4ed2efc1067', 'value': 10000000, 'ergoTree': '0008cd03e98b0082050a0878b6d1136f2d8cf5e24f7b6d025b2961bffaf5ca3a537a4f52', 'assets': [], 'creationHeight': 127212, 'additionalRegisters': {}, 'transactionId': '540b7d8eb7bfd9a4ae2102983bf7a8d10f2511c0e78f92aa3c76088994b25b4e', 'index': 0}, {'boxId': '44d63c6b4f6e4152b51654465a269df2ab69d629bc76ed6b28070a67499ec155', 'value': 10000000, 'ergoTree': '1005040004000e36100204900108cd0279be667ef9dcbbac55a06295ce870b07029bfcdb2dce28d959f2815b16f81798ea02d192a39a8cc7a701730073011001020402d19683030193a38cc7b2a57300000193c2b2a57301007473027303830108cdeeac93b1a57304', 'assets': [], 'creationHeight': 127212, 'additionalRegisters': {}, 'transactionId': '540b7d8eb7bfd9a4ae2102983bf7a8d10f2511c0e78f92aa3c76088994b25b4e', 'index': 1}, {'boxId': 'ed9fbd46762af2246edd5a7e8e0e66fd80bbac6a4a0ca2758bfecd0d185cf304', 'value': 1001157544896, 'ergoTree': '0008cd03e98b0082050a0878b6d1136f2d8cf5e24f7b6d025b2961bffaf5ca3a537a4f52', 'assets': [{'tokenId': '931aadfacfdde2849a7353472910b2e5e56f5b6f8f2be92859a7ff61d0bf9948', 'amount': 1}, {'tokenId': '67ba5e86afa43da553c2719870a6ae3d95a99b8fb024aa99edb0ebd57df90c73', 'amount': 10}, {'tokenId': '0890ad268cd62f29d09245baa423f2251f1d77ea21443a27d60c3c92377d2e4d', 'amount': 3}, {'tokenId': '81ba2a45d4539045995ad6ceeecf9f14b942f944a1c9771430a89c3f88ee898a', 'amount': 981}, {'tokenId': '81804ebd8d0eb51cfb03af1deb4d60e29be71fc73b9de55078650aa12e171eb9', 'amount': 1000}, {'tokenId': 'ceb55a91810f324e7dc16827113a4839c01ed81b988bbb6c6141fc19b2f80e93', 'amount': 10000000}, {'tokenId': 'f2d51387a03df2baa68f0a1d32976265a504514423a6c39457701477c59bcaf6', 'amount': 1000}], 'creationHeight': 127212, 'additionalRegisters': {}, 'transactionId': '540b7d8eb7bfd9a4ae2102983bf7a8d10f2511c0e78f92aa3c76088994b25b4e', 'index': 2}]}} {'requests': [{'address': '3WzKopFYhfRGPaUvC7v49DWgeY1efaCD3YpNQ6FZGr2t5mBhWjmw', 'value': 10000000}], 'inputs': ['tUZc71UXrkV7J6yLxJBpzwHBfs3rhChH54Scxa1hABXJemtJHHizB5JcTi5pbQuoCGCp2EwSq7fyUvYb3X2FdHaUPGzGBkWN2vPwCvgiFJjXtRH2wkHnyS3FpE6dSmsAXbycKKr9f3SH9GLxayvSGPSsNFaLmJF4bHXwSa'], 'outputs': [{'address': '0008cd03e98b0082050a0878b6d1136f2d8cf5e24f7b6d025b2961bffaf5ca3a537a4f52', 'assets': [{'tokenId': '0890ad268cd62f29d09245baa423f2251f1d77ea21443a27d60c3c92377d2e4d', 'amount': 1}]}], 'dataInputs': [], 'fee': 10000000, 'sendChangeTo': '3WzKopFYhfRGPaUvC7v49DWgeY1efaCD3YpNQ6FZGr2t5mBhWjmw'}\n"
     ]
    }
   ],
   "source": [
    "req = {\n",
    "    'requests': [\n",
    "        {            \n",
    "            'address': buyerWallet.address,\n",
    "            'value': minTx,            \n",
    "            #'script': buyerWallet.ergoTree() # ??\n",
    "            #'assets': [\n",
    "            #    {\n",
    "            #        'tokenId': '0890ad268cd62f29d09245baa423f2251f1d77ea21443a27d60c3c92377d2e4d',\n",
    "            #        'amount': 1\n",
    "            #    }\n",
    "            #],\n",
    "            #'registers': {\n",
    "            #    'R4': '0e240008cd03e98b0082050a0878b6d1136f2d8cf5e24f7b6d025b2961bffaf5ca3a537a4f52',\n",
    "            #},\n",
    "        }\n",
    "    ],\n",
    "    'inputs': [\"tUZc71UXrkV7J6yLxJBpzwHBfs3rhChH54Scxa1hABXJemtJHHizB5JcTi5pbQuoCGCp2EwSq7fyUvYb3X2FdHaUPGzGBkWN2vPwCvgiFJjXtRH2wkHnyS3FpE6dSmsAXbycKKr9f3SH9GLxayvSGPSsNFaLmJF4bHXwSa\"],\n",
    "    'outputs': [\n",
    "        {\n",
    "            'address': buyerWallet.ergoTree(),   \n",
    "            'assets': [\n",
    "                {\n",
    "                    'tokenId': '0890ad268cd62f29d09245baa423f2251f1d77ea21443a27d60c3c92377d2e4d',\n",
    "                    'amount': 1\n",
    "                }\n",
    "            ]\n",
    "        }\n",
    "    ],\n",
    "    'dataInputs': [],\n",
    "    'fee': minTx,\n",
    "    'sendChangeTo': buyerWallet.address,\n",
    "}\n",
    "\n",
    "res = requests.post(buyer_transaction_generateUnsigned, headers=dict(headers, **{'api_key': buyer_key}), json=req)\n",
    "\n",
    "tx = ''\n",
    "if res.ok:\n",
    "    tx = { 'tx': res.json() }\n",
    "    print(tx, req)\n",
    "else:\n",
    "    print(res.content)"
   ]
  },
  {
   "cell_type": "markdown",
   "metadata": {},
   "source": [
    "# Sign Transaction"
   ]
  },
  {
   "cell_type": "code",
   "execution_count": 12,
   "metadata": {},
   "outputs": [
    {
     "name": "stdout",
     "output_type": "stream",
     "text": [
      "{'id': 'b1436032a61f01cfc69712125ab58936a878148e09a4cfc48712aa51bbd46cb0', 'inputs': [{'boxId': '1644be7553c0620166582110cd558eac535bc7e6d64bc79d8ac034c631325d88', 'spendingProof': {'proofBytes': 'f8404bb8533d44ba3944dc3eb926bb8c46d4e714cb596cb26117cb3862602c432e5ccd916e1a9fcaa8cd469ce982f164abeaaa2e11c2ea52', 'extension': {}}}, {'boxId': '8fa217902ad55851a11f0834f0854ef1908ad1e16e61de19feeb37a61c3965dd', 'spendingProof': {'proofBytes': 'b69e3e3d83ebb38edcd080006243ee55c7391a7a715933c9dc279711e415de34282bf21a8460acfbfd3b875b77511c4e0d9fc64c54d80774', 'extension': {}}}], 'dataInputs': [], 'outputs': [{'boxId': '028ef4a72a6828b74804f4273a7d434d502c03dc7588e28a70172d84e86b8e25', 'value': 10000000, 'ergoTree': '100408cd03e98b0082050a0878b6d1136f2d8cf5e24f7b6d025b2961bffaf5ca3a537a4f5205d0d4c29b0c08cd02946f31c13a75cb07571a63e860fa79ebd866278651cb1268d0c70c8c9beaaf4e05f08cc39b0cd801d601db6903db6503feeb02ea027300d19172017301ea027302d19172017303', 'assets': [{'tokenId': '0890ad268cd62f29d09245baa423f2251f1d77ea21443a27d60c3c92377d2e4d', 'amount': 1}], 'creationHeight': 127147, 'additionalRegisters': {}, 'transactionId': 'b1436032a61f01cfc69712125ab58936a878148e09a4cfc48712aa51bbd46cb0', 'index': 0}, {'boxId': 'd7bfdfd2416189d45589e9bca4b00891401caa0d2da66694ad52e8825c522704', 'value': 10000000, 'ergoTree': '1005040004000e36100204900108cd0279be667ef9dcbbac55a06295ce870b07029bfcdb2dce28d959f2815b16f81798ea02d192a39a8cc7a701730073011001020402d19683030193a38cc7b2a57300000193c2b2a57301007473027303830108cdeeac93b1a57304', 'assets': [], 'creationHeight': 127147, 'additionalRegisters': {}, 'transactionId': 'b1436032a61f01cfc69712125ab58936a878148e09a4cfc48712aa51bbd46cb0', 'index': 1}, {'boxId': '856bc80164859881c518ca580ba45a6034a35953359fc72013f12ac378ed6eb1', 'value': 1001257544896, 'ergoTree': '0008cd03e98b0082050a0878b6d1136f2d8cf5e24f7b6d025b2961bffaf5ca3a537a4f52', 'assets': [{'tokenId': '931aadfacfdde2849a7353472910b2e5e56f5b6f8f2be92859a7ff61d0bf9948', 'amount': 1}, {'tokenId': '67ba5e86afa43da553c2719870a6ae3d95a99b8fb024aa99edb0ebd57df90c73', 'amount': 10}, {'tokenId': '0890ad268cd62f29d09245baa423f2251f1d77ea21443a27d60c3c92377d2e4d', 'amount': 5}, {'tokenId': '81ba2a45d4539045995ad6ceeecf9f14b942f944a1c9771430a89c3f88ee898a', 'amount': 981}, {'tokenId': '81804ebd8d0eb51cfb03af1deb4d60e29be71fc73b9de55078650aa12e171eb9', 'amount': 1000}, {'tokenId': 'f2d51387a03df2baa68f0a1d32976265a504514423a6c39457701477c59bcaf6', 'amount': 1000}, {'tokenId': 'ceb55a91810f324e7dc16827113a4839c01ed81b988bbb6c6141fc19b2f80e93', 'amount': 10000000}], 'creationHeight': 127147, 'additionalRegisters': {}, 'transactionId': 'b1436032a61f01cfc69712125ab58936a878148e09a4cfc48712aa51bbd46cb0', 'index': 2}], 'size': 717}\n"
     ]
    }
   ],
   "source": [
    "res = requests.post(buyer_transaction_sign, headers=dict(headers, **{'api_key': buyer_key}), json=tx)\n",
    "signed = {}\n",
    "if res.ok:\n",
    "    signed = res.json()\n",
    "    print(signed)\n",
    "else:\n",
    "    print(res.content)"
   ]
  },
  {
   "cell_type": "markdown",
   "metadata": {},
   "source": [
    "# Send Transaction"
   ]
  },
  {
   "cell_type": "code",
   "execution_count": 28,
   "metadata": {},
   "outputs": [
    {
     "name": "stdout",
     "output_type": "stream",
     "text": [
      "a07105cf4361385b2492252450b364866d638cd308dfa1fad572470ec87cd4d8\n"
     ]
    }
   ],
   "source": [
    "res = requests.post(buyer_transaction_send, headers=dict(headers, **{'api_key': buyer_key}), json=req)\n",
    "if res.ok:\n",
    "    print(res.json())\n",
    "else:\n",
    "    print(res.content)"
   ]
  }
 ],
 "metadata": {
  "interpreter": {
   "hash": "9ef881996440e47991ec8f5e8e48ec897df49313ee41a42c29906b10d4f0879a"
  },
  "kernelspec": {
   "display_name": "Python 3.9.5 64-bit",
   "language": "python",
   "name": "python3"
  },
  "language_info": {
   "codemirror_mode": {
    "name": "ipython",
    "version": 3
   },
   "file_extension": ".py",
   "mimetype": "text/x-python",
   "name": "python",
   "nbconvert_exporter": "python",
   "pygments_lexer": "ipython3",
   "version": "3.9.5"
  },
  "orig_nbformat": 4
 },
 "nbformat": 4,
 "nbformat_minor": 2
}
