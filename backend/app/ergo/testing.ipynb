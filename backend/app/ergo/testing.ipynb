{
 "cells": [
  {
   "cell_type": "code",
   "execution_count": 1,
   "metadata": {},
   "outputs": [],
   "source": [
    "import requests\n",
    "\n",
    "from address import Address # python wrapper for ERGO address class\n",
    "from base64 import b64encode"
   ]
  },
  {
   "cell_type": "code",
   "execution_count": 56,
   "metadata": {},
   "outputs": [],
   "source": [
    "buyerAddress   = '3WzKopFYhfRGPaUvC7v49DWgeY1efaCD3YpNQ6FZGr2t5mBhWjmw'\n",
    "buyer_key      = 'xx ' # setup for node; assembler uses this\n",
    "ergopadAddress = '3WwjaerfwDqYvFwvPRVJBJx2iUvCjD2jVpsL82Zho1aaV5R95jsG'\n",
    "ergopad_key    = 'yy' # setup for node; assembler uses this\n",
    "\n",
    "HOST = 'localhost' # '10.0.0.134'\n",
    "ergonode = f'http://{HOST}:9052'\n",
    "buyernode = f'http://{HOST}:9054'\n",
    "\n",
    "wallet_transaction_generateUnsigned = f'{ergonode}/wallet/transaction/generateUnsigned'\n",
    "wallet_transaction_generate = f'{ergonode}/wallet/transaction/generate'\n",
    "wallet_transaction_sign = f'{ergonode}/wallet/transaction/sign'\n",
    "wallet_transaction_send = f'{ergonode}/wallet/transaction/send'\n",
    "\n",
    "buyer_transaction_generateUnsigned = f'{buyernode}/wallet/transaction/generateUnsigned'\n",
    "buyer_transaction_generate = f'{buyernode}/wallet/transaction/generate'\n",
    "buyer_transaction_sign = f'{buyernode}/wallet/transaction/sign'\n",
    "buyer_transaction_send = f'{buyernode}/wallet/transaction/send'\n",
    "\n",
    "ergo_info = f'{ergonode}/info'\n",
    "headers       = {'Content-Type': 'application/json'}\n",
    "\n",
    "# wallet to expect funding from\n",
    "ergopadWallet  = Address(ergopadAddress)\n",
    "buyerWallet    = Address(buyerAddress)\n",
    "minTx          = 10000000\n",
    "txFee          = 0 # 2000000\n",
    "nanoergsInErg  = 1000000000     # 1e9\n",
    "tokenId        = '0890ad268cd62f29d09245baa423f2251f1d77ea21443a27d60c3c92377d2e4d'"
   ]
  },
  {
   "cell_type": "markdown",
   "metadata": {},
   "source": [
    "# Request"
   ]
  },
  {
   "cell_type": "code",
   "execution_count": 59,
   "metadata": {},
   "outputs": [],
   "source": [
    "req = {\n",
    "    'requests': [\n",
    "        {            \n",
    "            'address': buyerWallet.address,\n",
    "            # 'address': \"tUZc71UXrkV7J6yLxJBpzwHBfs3rhChH54Scxa1hABXJemtJHHizAXCdCiVVT6o1fYi7HFiv7fQfoUqYjc7z1STGoDTKcYWdxHJ4acX9HAow7VSqnGatG13q8x6YmWhn8Qnewku7kzUXG75vdiCzDrg8w6Jq8pAgZaHYo9\",\n",
    "            'value': minTx,            \n",
    "            'assets': [\n",
    "                {\n",
    "                    'tokenId': '0890ad268cd62f29d09245baa423f2251f1d77ea21443a27d60c3c92377d2e4d',\n",
    "                    'amount': 1\n",
    "                }\n",
    "            ],\n",
    "        }\n",
    "    ],\n",
    "    'inputs': [buyerWallet.ergoTree()],\n",
    "    'outputs': [], # 'outputs': [\"tUZc71UXrkV7J6yLxJBpzwHBfs3rhChH54Scxa1hABXJemtJHHizAXCdCiVVT6o1fYi7HFiv7fQfoUqYjc7z1STGoDTKcYWdxHJ4acX9HAow7VSqnGatG13q8x6YmWhn8Qnewku7kzUXG75vdiCzDrg8w6Jq8pAgZaHYo9\"],\n",
    "    'dataInputs': [], # 'dataInputs': [\"tUZc71UXrkV7J6yLxJBpzwHBfs3rhChH54Scxa1hABXJemtJHHizAXCdCiVVT6o1fYi7HFiv7fQfoUqYjc7z1STGoDTKcYWdxHJ4acX9HAow7VSqnGatG13q8x6YmWhn8Qnewku7kzUXG75vdiCzDrg8w6Jq8pAgZaHYo9\"],\n",
    "    'inputsRaw': [\n",
    "        '80b48913100408cd03e98b0082050a0878b6d1136f2d8cf5e24f7b6d025b2961bffaf5ca3a537a4f5205d8c0cf9b0c08cd02946f31c13a75cb07571a63e860fa79ebd866278651cb1268d0c70c8c9beaaf4e05e8dccf9b0cd801d601db6903db6503feeb02ea027300d19172017301ea027302d19172017303f7e307010890ad268cd62f29d09245baa423f2251f1d77ea21443a27d60c3c92377d2e4d0100123d43679ba1bac406a64787a37b18e51626fce231ae11723fe9c5a36d6b504c00',\n",
    "        # '80e1b388f2050008cd02946f31c13a75cb07571a63e860fa79ebd866278651cb1268d0c70c8c9beaaf4efae207010890ad268cd62f29d09245baa423f2251f1d77ea21443a27d60c3c92377d2e4ddbace2040083e73d504ec984da1d0cd316186292eb6a10dd105f994afb506b6d0af29e200904'\n",
    "    ],\n",
    "    'fee': minTx,\n",
    "    'sendChangeTo': buyerWallet.address,\n",
    "}"
   ]
  },
  {
   "cell_type": "code",
   "execution_count": 60,
   "metadata": {},
   "outputs": [
    {
     "name": "stdout",
     "output_type": "stream",
     "text": [
      "3b7129519064883299aebee49c7c88ba78eacd10fda5236154b62c3da9c84391\n"
     ]
    }
   ],
   "source": [
    "res = requests.post(buyer_transaction_send, headers=dict(headers, **{'api_key': buyer_key}), json=req)\n",
    "if res.ok:\n",
    "    print(res.json())\n",
    "else:\n",
    "    print(res.content)"
   ]
  },
  {
   "cell_type": "code",
   "execution_count": 74,
   "metadata": {},
   "outputs": [],
   "source": [
    "blockHeight = 127477\n",
    "res = requests.get(f'{ergonode}/blocks/at/{blockHeight}', headers=dict(headers, **{'api_key': ergopad_key}))\n",
    "if res.ok: \n",
    "    for hdr in res.json():\n",
    "        res = requests.get(f'{ergonode}/blocks/{hdr}', headers=dict(headers, **{'api_key': ergopad_key}))\n",
    "        if res.ok:\n",
    "            for tx in res.json()['blockTransactions']['transactions']:\n",
    "                for out in tx['outputs']:\n",
    "                    for ast in out['assets']:\n",
    "                        try: \n",
    "                            if ast['tokenId'] == tokenId and (out['value'] == 40000000):\n",
    "                                print(f'boxId: {out[\"boxId\"]}')\n",
    "                        except: continue"
   ]
  },
  {
   "cell_type": "code",
   "execution_count": 33,
   "metadata": {},
   "outputs": [
    {
     "data": {
      "text/plain": [
       "{'requests': [{'address': '3WzKopFYhfRGPaUvC7v49DWgeY1efaCD3YpNQ6FZGr2t5mBhWjmw',\n",
       "   'value': 10000000,\n",
       "   'assets': [{'tokenId': '0890ad268cd62f29d09245baa423f2251f1d77ea21443a27d60c3c92377d2e4d',\n",
       "     'amount': 1}]}],\n",
       " 'inputs': ['0008cd03e98b0082050a0878b6d1136f2d8cf5e24f7b6d025b2961bffaf5ca3a537a4f52',\n",
       "  '0bf2df07a024a41d57c684089d20d8405c970d993dbfed159df063433ecaea5d'],\n",
       " 'outputs': [],\n",
       " 'dataInputs': [],\n",
       " 'fee': 10000000,\n",
       " 'sendChangeTo': '3WzKopFYhfRGPaUvC7v49DWgeY1efaCD3YpNQ6FZGr2t5mBhWjmw'}"
      ]
     },
     "execution_count": 33,
     "metadata": {},
     "output_type": "execute_result"
    }
   ],
   "source": [
    "req"
   ]
  },
  {
   "cell_type": "markdown",
   "metadata": {},
   "source": [
    "# Generate Unsigned Transaction "
   ]
  },
  {
   "cell_type": "code",
   "execution_count": null,
   "metadata": {},
   "outputs": [],
   "source": [
    "res = requests.post(buyer_transaction_generateUnsigned, headers=dict(headers, **{'api_key': buyer_key}), json=req)\n",
    "\n",
    "tx = ''\n",
    "if res.ok:\n",
    "    tx = { 'tx': res.json() }\n",
    "    print(tx, req)\n",
    "else:\n",
    "    print(res.content)"
   ]
  },
  {
   "cell_type": "markdown",
   "metadata": {},
   "source": [
    "# Sign Transaction"
   ]
  },
  {
   "cell_type": "code",
   "execution_count": null,
   "metadata": {},
   "outputs": [],
   "source": [
    "res = requests.post(buyer_transaction_sign, headers=dict(headers, **{'api_key': buyer_key}), json=tx)\n",
    "signed = {}\n",
    "if res.ok:\n",
    "    signed = res.json()\n",
    "    print(signed)\n",
    "else:\n",
    "    print(res.content)"
   ]
  }
 ],
 "metadata": {
  "interpreter": {
   "hash": "9ef881996440e47991ec8f5e8e48ec897df49313ee41a42c29906b10d4f0879a"
  },
  "kernelspec": {
   "display_name": "Python 3.9.5 64-bit",
   "language": "python",
   "name": "python3"
  },
  "language_info": {
   "codemirror_mode": {
    "name": "ipython",
    "version": 3
   },
   "file_extension": ".py",
   "mimetype": "text/x-python",
   "name": "python",
   "nbconvert_exporter": "python",
   "pygments_lexer": "ipython3",
   "version": "3.9.5"
  },
  "orig_nbformat": 4
 },
 "nbformat": 4,
 "nbformat_minor": 2
}
