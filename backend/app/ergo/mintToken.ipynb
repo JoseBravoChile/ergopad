{
 "cells": [
  {
   "cell_type": "code",
   "execution_count": 1,
   "metadata": {},
   "outputs": [],
   "source": [
    "import requests\n",
    "\n",
    "from address import Address # python wrapper for ERGO address class\n",
    "from base64 import b64encode"
   ]
  },
  {
   "cell_type": "markdown",
   "metadata": {},
   "source": [
    "### Config\n",
    "_walletAddress_ - ERGO wallet that initiates and pays the smart contract<br>\n",
    "_toAddress_ - ERGO wallet that will recieve result of ergoscript (if there is one)<br>"
   ]
  },
  {
   "cell_type": "code",
   "execution_count": 2,
   "metadata": {},
   "outputs": [],
   "source": [
    "# testnet\n",
    "walletAddress = '3WwjaerfwDqYvFwvPRVJBJx2iUvCjD2jVpsL82Zho1aaV5R95jsG'\n",
    "api_key       = 'oncejournalstrangeweather' # setup for node; assembler uses this"
   ]
  },
  {
   "cell_type": "code",
   "execution_count": null,
   "metadata": {},
   "outputs": [],
   "source": [
    "# mainnet\n",
    "walletAddress = '9iD7JfYYemJgVz7nTGg9gaHuWg7hBbHo2kxrrJawyz4BD1r9fLS'\n",
    "api_key       = 'fancyapikeygoeshere' # setup for node; assembler uses this"
   ]
  },
  {
   "cell_type": "code",
   "execution_count": 50,
   "metadata": {},
   "outputs": [],
   "source": [
    "# ergonode api routes\n",
    "HOST = 'localhost'\n",
    "PORT = 9053\n",
    "ergonode = f'http://{HOST}:{PORT}'\n",
    "wallet_transaction_generateUnsigned = f'{ergonode}/wallet/transaction/generateUnsigned'\n",
    "wallet_transaction_sign = f'{ergonode}/wallet/transaction/sign'\n",
    "wallet_transaction_send = f'{ergonode}/wallet/transaction/send'\n",
    "ergo_info = f'{ergonode}/info'\n",
    "\n",
    "headers       = {'Content-Type': 'application/json'}\n",
    "\n",
    "# wallet to expect funding from\n",
    "userWallet    = Address(walletAddress)\n",
    "userTreeHex   = userWallet.ergoTree()\n",
    "userTree      = b64encode(bytes.fromhex(userTreeHex)).decode()"
   ]
  },
  {
   "cell_type": "code",
   "execution_count": 5,
   "metadata": {},
   "outputs": [],
   "source": [
    "minTx          = 10000000\n",
    "txFee          = 2000000\n",
    "nanoergsInErg  = 1000000000     # 1e9\n",
    "ergAmount      = .1             # TODO: how much to send in transaction\n",
    "qtyTokens      = 10000          # TODO: number of tokens\n",
    "decimals       = 0              # TODO: (optional) can change this\n",
    "name           = 'ASDFToken123' # TODO: change token name\n",
    "description    = 'ASDFToken'    # TODO: change token description\n",
    "nergAmount     = int(ergAmount * nanoergsInErg)"
   ]
  },
  {
   "cell_type": "code",
   "execution_count": 58,
   "metadata": {},
   "outputs": [],
   "source": [
    "def mintToken(amount, name, description, decimals):\n",
    "    ergAmount      = .1             # TODO: how much to send in transaction?\n",
    "    nanoergsInErg  = 1000000000     # 1e9\n",
    "    nergAmount     = int(ergAmount * nanoergsInErg)\n",
    "    minTx          = 10000000\n",
    "    creationHeight = 0\n",
    "\n",
    "    res = requests.get(ergo_info)\n",
    "    if res.ok:\n",
    "        creationHeight = res.json()['fullHeight']\n",
    "\n",
    "    # outBox\n",
    "    req = {\n",
    "        \"requests\": [\n",
    "            {\n",
    "                'address': userWallet.address,\n",
    "                'ergValue': nergAmount + minTx,\n",
    "                'amount': amount,\n",
    "                'name': name,\n",
    "                'description': description,\n",
    "                'decimals': decimals, # 0-9\n",
    "            },\n",
    "        ],\n",
    "        'inputs': [],\n",
    "        'dataInputs': [],\n",
    "        'outputs': []\n",
    "    }\n",
    "\n",
    "    # generate unsigned transaction with token info\n",
    "    res = requests.post(wallet_transaction_generateUnsigned, headers=dict(headers, **{'api_key': api_key}), json=req)\n",
    "    \n",
    "    # return the unsigned transaction\n",
    "    if res.ok:\n",
    "        return ({ 'tx': res.json() }, req)\n",
    "    else:\n",
    "        return ({}, {})"
   ]
  },
  {
   "cell_type": "code",
   "execution_count": 59,
   "metadata": {},
   "outputs": [
    {
     "data": {
      "text/plain": [
       "{'requests': [{'address': '3WwjaerfwDqYvFwvPRVJBJx2iUvCjD2jVpsL82Zho1aaV5R95jsG',\n",
       "   'ergValue': 110000000,\n",
       "   'amount': 101,\n",
       "   'name': 'hello101',\n",
       "   'description': 'world token',\n",
       "   'decimals': 8}],\n",
       " 'inputs': [],\n",
       " 'dataInputs': [],\n",
       " 'outputs': []}"
      ]
     },
     "execution_count": 59,
     "metadata": {},
     "output_type": "execute_result"
    }
   ],
   "source": [
    "tx, req = mintToken(101, 'hello101', 'world token', 8)\n",
    "req"
   ]
  },
  {
   "cell_type": "code",
   "execution_count": 60,
   "metadata": {},
   "outputs": [
    {
     "data": {
      "text/plain": [
       "b'\"aac6698a7dbf0086e8a6c80d70481e8ed1ffb95c555fc94fb3c89588d847d881\"'"
      ]
     },
     "execution_count": 60,
     "metadata": {},
     "output_type": "execute_result"
    }
   ],
   "source": [
    "res = requests.post(wallet_transaction_send, headers=dict(headers, **{'api_key': api_key}), json=req)\n",
    "res.json()"
   ]
  },
  {
   "cell_type": "code",
   "execution_count": 57,
   "metadata": {},
   "outputs": [
    {
     "data": {
      "text/plain": [
       "{'tx': {'id': '7c58c1b4cafa08767a939b5f25e1f929fff6beb914871f7ae413e54e3b702900',\n",
       "  'inputs': [{'boxId': '02b5589cfb2df5b1af147378ef80585562451306779dcdbd97fb5ba9a88ccd6b',\n",
       "    'extension': {}},\n",
       "   {'boxId': 'f93ca82a52e708ee97f541ef15d55b0ce170a878620cf76422a4d92519fee83e',\n",
       "    'extension': {}},\n",
       "   {'boxId': '26e0f31458531ba52e38610b65d0d892ddac1a0c94d1cb673943aad657ab2a7b',\n",
       "    'extension': {}}],\n",
       "  'dataInputs': [],\n",
       "  'outputs': [{'boxId': 'ba76aaa1948482a6900af2f5ba4b6cb82cc66d6a8228e8963777d463774a0153',\n",
       "    'value': 110000000,\n",
       "    'ergoTree': '0008cd02946f31c13a75cb07571a63e860fa79ebd866278651cb1268d0c70c8c9beaaf4e',\n",
       "    'assets': [{'tokenId': '02b5589cfb2df5b1af147378ef80585562451306779dcdbd97fb5ba9a88ccd6b',\n",
       "      'amount': 101}],\n",
       "    'creationHeight': 114838,\n",
       "    'additionalRegisters': {'R4': '0e0868656c6c6f313031',\n",
       "     'R5': '0e0b776f726c6420746f6b656e',\n",
       "     'R6': '0e0138'},\n",
       "    'transactionId': '7c58c1b4cafa08767a939b5f25e1f929fff6beb914871f7ae413e54e3b702900',\n",
       "    'index': 0},\n",
       "   {'boxId': 'cd34835bac54e108b638228c04df8a9c03b7d908bb60df1d2475abd8a70e66db',\n",
       "    'value': 67393111112,\n",
       "    'ergoTree': '0008cd037e40b876df9bca4d2be1352979966c3a616af2189e78ebc895d5dcdf10a9d1fe',\n",
       "    'assets': [],\n",
       "    'creationHeight': 114838,\n",
       "    'additionalRegisters': {},\n",
       "    'transactionId': '7c58c1b4cafa08767a939b5f25e1f929fff6beb914871f7ae413e54e3b702900',\n",
       "    'index': 1}]}}"
      ]
     },
     "execution_count": 57,
     "metadata": {},
     "output_type": "execute_result"
    }
   ],
   "source": [
    "req"
   ]
  },
  {
   "cell_type": "code",
   "execution_count": 41,
   "metadata": {},
   "outputs": [],
   "source": [
    "# make payment to smart contract\n",
    "# req = mintToken(100, 'hello100', 'world token', 8)\n",
    "res = requests.post(wallet_transaction_sign, headers=dict(headers, **{'api_key': api_key}), json=req)"
   ]
  },
  {
   "cell_type": "code",
   "execution_count": 43,
   "metadata": {},
   "outputs": [
    {
     "name": "stdout",
     "output_type": "stream",
     "text": [
      "{'id': 'acfc88b23d04276c5f3ffbd1b759f3c0546c550b72eff49469808aea4280609e', 'inputs': [{'boxId': '02b5589cfb2df5b1af147378ef80585562451306779dcdbd97fb5ba9a88ccd6b', 'spendingProof': {'proofBytes': '969dd8b8da9d0fcb1815b4311e2b824ca27e88f5f3dae71ee6fad8d4fb5c39da06c10d2b660e8a03f46afb6db00d55fce607188bc574b968', 'extension': {}}}, {'boxId': 'f93ca82a52e708ee97f541ef15d55b0ce170a878620cf76422a4d92519fee83e', 'spendingProof': {'proofBytes': '8879f027ffb286dce87a643e2fe0118826c7ef52fa074865318a9ffd6d4fa56a9f391ed35951cfba618db72db774adecf424349c9e749a3b', 'extension': {}}}, {'boxId': '26e0f31458531ba52e38610b65d0d892ddac1a0c94d1cb673943aad657ab2a7b', 'spendingProof': {'proofBytes': '4e5a03a1661a625b3f3947b88f099558ad4cc93fda71d96342e029adcf33708e88194231f78e3b655b4305ab3bec8c750f6a43ed79c2182a', 'extension': {}}}], 'dataInputs': [], 'outputs': [{'boxId': '5e62e405395e2837670a076f271205d4e1d697286f133b1feb9e5bb71be79684', 'value': 110000000, 'ergoTree': '0008cd02946f31c13a75cb07571a63e860fa79ebd866278651cb1268d0c70c8c9beaaf4e', 'assets': [{'tokenId': '02b5589cfb2df5b1af147378ef80585562451306779dcdbd97fb5ba9a88ccd6b', 'amount': 101}], 'creationHeight': 114832, 'additionalRegisters': {'R4': '0e0868656c6c6f313031', 'R5': '0e0b776f726c6420746f6b656e', 'R6': '0e0138'}, 'transactionId': 'acfc88b23d04276c5f3ffbd1b759f3c0546c550b72eff49469808aea4280609e', 'index': 0}, {'boxId': '3e33d447ef39ab2ce6bb8ab86a594e2acb6f990f1423ea2dec89b8af01aa763a', 'value': 67393111112, 'ergoTree': '0008cd037e40b876df9bca4d2be1352979966c3a616af2189e78ebc895d5dcdf10a9d1fe', 'assets': [], 'creationHeight': 114832, 'additionalRegisters': {}, 'transactionId': 'acfc88b23d04276c5f3ffbd1b759f3c0546c550b72eff49469808aea4280609e', 'index': 1}], 'size': 426}\n"
     ]
    }
   ],
   "source": [
    "request = ''\n",
    "if res.ok:\n",
    "    request = res.json()\n",
    "    print(res.json())\n",
    "else:\n",
    "    print(f'ERR: status code {res.status_code}\\n{res.content}')"
   ]
  },
  {
   "cell_type": "code",
   "execution_count": 48,
   "metadata": {},
   "outputs": [
    {
     "data": {
      "text/plain": [
       "b'{\\n  \"success\": false,\\n  \"detail\": \"address field is required\"\\n}'"
      ]
     },
     "execution_count": 48,
     "metadata": {},
     "output_type": "execute_result"
    }
   ],
   "source": [
    "assembler_url = 'http://localhost:8080'\n",
    "res = requests.post(f'{assembler_url}/follow', headers=headers, json=request)\n",
    "res.content\n",
    "# id = res.json()['id']\n",
    "# id"
   ]
  }
 ],
 "metadata": {
  "interpreter": {
   "hash": "9ef881996440e47991ec8f5e8e48ec897df49313ee41a42c29906b10d4f0879a"
  },
  "kernelspec": {
   "display_name": "Python 3.9.5 64-bit",
   "language": "python",
   "name": "python3"
  },
  "language_info": {
   "codemirror_mode": {
    "name": "ipython",
    "version": 3
   },
   "file_extension": ".py",
   "mimetype": "text/x-python",
   "name": "python",
   "nbconvert_exporter": "python",
   "pygments_lexer": "ipython3",
   "version": "3.9.5"
  },
  "orig_nbformat": 4
 },
 "nbformat": 4,
 "nbformat_minor": 2
}
