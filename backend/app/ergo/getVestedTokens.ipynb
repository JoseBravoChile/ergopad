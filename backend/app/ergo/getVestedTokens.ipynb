{
 "cells": [
  {
   "cell_type": "code",
   "execution_count": 78,
   "metadata": {},
   "outputs": [],
   "source": [
    "import requests\n",
    "\n",
    "from address import Address # python wrapper for ERGO address class\n",
    "from base64 import b64encode"
   ]
  },
  {
   "cell_type": "markdown",
   "metadata": {},
   "source": [
    "### Config\n",
    "_walletAddress_ - ERGO wallet that initiates and pays the smart contract<br>\n",
    "_toAddress_ - ERGO wallet that will recieve result of ergoscript (if there is one)<br>"
   ]
  },
  {
   "cell_type": "code",
   "execution_count": 2,
   "metadata": {},
   "outputs": [],
   "source": [
    "# testnet\n",
    "walletAddress = '3WzKopFYhfRGPaUvC7v49DWgeY1efaCD3YpNQ6FZGr2t5mBhWjmw'\n",
    "api_key       = 'goalspentchillyamber ' # setup for node; assembler uses this"
   ]
  },
  {
   "cell_type": "code",
   "execution_count": null,
   "metadata": {},
   "outputs": [],
   "source": [
    "# mainnet\n",
    "# walletAddress = '9iD7JfYYemJgVz7nTGg9gaHuWg7hBbHo2kxrrJawyz4BD1r9fLS'\n",
    "# api_key       = 'fancyapikeygoeshere' # setup for node; assembler uses this\n",
    "walletAddress = '9hBWYrVTqWofLDBxcCv87FYdzoist5v63dAoWHdxMHdbqisFxe8' # ergopad-play-token\n",
    "api_key = 'fellowbravelittlemosaic'"
   ]
  },
  {
   "cell_type": "code",
   "execution_count": 129,
   "metadata": {},
   "outputs": [],
   "source": [
    "# ergonode api routes\n",
    "\n",
    "HOST = 'localhost' # '10.0.0.134'\n",
    "PORT = 9054\n",
    "buyernode = f'http://{HOST}:{PORT}'\n",
    "ergonode = f'http://{HOST}:9052'\n",
    "wallet_transaction_generateUnsigned = f'{ergonode}/wallet/transaction/generateUnsigned'\n",
    "wallet_transaction_generate = f'{ergonode}/wallet/transaction/generate'\n",
    "wallet_transaction_sign = f'{ergonode}/wallet/transaction/sign'\n",
    "wallet_transaction_send = f'{ergonode}/wallet/transaction/send'\n",
    "ergo_info = f'{ergonode}/info'\n",
    "\n",
    "headers       = {'Content-Type': 'application/json'}\n",
    "\n",
    "# wallet to expect funding from\n",
    "userWallet    = Address(walletAddress)"
   ]
  },
  {
   "cell_type": "code",
   "execution_count": 7,
   "metadata": {},
   "outputs": [],
   "source": [
    "minTx          = 10000000\n",
    "txFee          = 0 # 2000000\n",
    "nanoergsInErg  = 1000000000     # 1e9\n",
    "ergAmount      = .01            # TODO: how much to send in transaction\n",
    "qtyTokens      = 10000          # TODO: number of tokens\n",
    "decimals       = 0              # TODO: (optional) can change this\n",
    "name           = 'Ergopad' # TODO: change token name\n",
    "description    = 'Ergopad token'    # TODO: change token description\n",
    "nergAmount     = int(ergAmount * nanoergsInErg)"
   ]
  },
  {
   "cell_type": "code",
   "execution_count": 79,
   "metadata": {},
   "outputs": [
    {
     "data": {
      "text/plain": [
       "'0008cd03e98b0082050a0878b6d1136f2d8cf5e24f7b6d025b2961bffaf5ca3a537a4f52'"
      ]
     },
     "execution_count": 79,
     "metadata": {},
     "output_type": "execute_result"
    }
   ],
   "source": [
    "userWallet.ergoTree()"
   ]
  },
  {
   "cell_type": "code",
   "execution_count": 133,
   "metadata": {},
   "outputs": [
    {
     "name": "stdout",
     "output_type": "stream",
     "text": [
      "{'tx': {'id': 'c04abd5840ff6a392db1d52fa12c52f73027f84b632b5f252ddf34f696276073', 'inputs': [{'boxId': '8cef93b13316079e3328daab641edbdcf69bcee9268db84f0b7400d3d89ae046', 'spendingProof': {'proofBytes': 'ce1057ef1112e5d4d5928f83b4d79052b7a9976e76be17d75702606c71b167e93956f0c1db8b306e2de755d21aa57bbfb2e848950ca01409', 'extension': {}}}], 'dataInputs': [], 'outputs': [{'boxId': 'a42a1af4db14f1ae8e359bb2f0a7e86bf36cdc435bc8907918584d98372642e0', 'value': 10000000, 'ergoTree': '100408cd03e98b0082050a0878b6d1136f2d8cf5e24f7b6d025b2961bffaf5ca3a537a4f5205d0d4c29b0c08cd02946f31c13a75cb07571a63e860fa79ebd866278651cb1268d0c70c8c9beaaf4e05f08cc39b0cd801d601db6903db6503feeb02ea027300d19172017301ea027302d19172017303', 'assets': [{'tokenId': '0890ad268cd62f29d09245baa423f2251f1d77ea21443a27d60c3c92377d2e4d', 'amount': 1}], 'creationHeight': 126540, 'additionalRegisters': {}, 'transactionId': 'c04abd5840ff6a392db1d52fa12c52f73027f84b632b5f252ddf34f696276073', 'index': 0}, {'boxId': '55cc418f76b7369874b29e1a8d59767123a285b63f50b81c620d0c608c79ee72', 'value': 10000000, 'ergoTree': '1005040004000e36100204900108cd0279be667ef9dcbbac55a06295ce870b07029bfcdb2dce28d959f2815b16f81798ea02d192a39a8cc7a701730073011001020402d19683030193a38cc7b2a57300000193c2b2a57301007473027303830108cdeeac93b1a57304', 'assets': [], 'creationHeight': 126540, 'additionalRegisters': {}, 'transactionId': 'c04abd5840ff6a392db1d52fa12c52f73027f84b632b5f252ddf34f696276073', 'index': 1}, {'boxId': '4b9d527c3d45924a2aec980c55f0b68fb62dcaad7e97e48d04ae560d6ee93976', 'value': 999953300000, 'ergoTree': '0008cd03e98b0082050a0878b6d1136f2d8cf5e24f7b6d025b2961bffaf5ca3a537a4f52', 'assets': [{'tokenId': 'f2d51387a03df2baa68f0a1d32976265a504514423a6c39457701477c59bcaf6', 'amount': 1000}, {'tokenId': '931aadfacfdde2849a7353472910b2e5e56f5b6f8f2be92859a7ff61d0bf9948', 'amount': 1}, {'tokenId': '81ba2a45d4539045995ad6ceeecf9f14b942f944a1c9771430a89c3f88ee898a', 'amount': 981}, {'tokenId': 'ceb55a91810f324e7dc16827113a4839c01ed81b988bbb6c6141fc19b2f80e93', 'amount': 10000000}, {'tokenId': '81804ebd8d0eb51cfb03af1deb4d60e29be71fc73b9de55078650aa12e171eb9', 'amount': 1000}, {'tokenId': '0890ad268cd62f29d09245baa423f2251f1d77ea21443a27d60c3c92377d2e4d', 'amount': 7}, {'tokenId': '67ba5e86afa43da553c2719870a6ae3d95a99b8fb024aa99edb0ebd57df90c73', 'amount': 10}], 'creationHeight': 126540, 'additionalRegisters': {}, 'transactionId': 'c04abd5840ff6a392db1d52fa12c52f73027f84b632b5f252ddf34f696276073', 'index': 2}], 'size': 627}} {'requests': [{'address': 'tUZc71UXrkV7J6yLxJBpzwHBfs3rhChH54Scxa1hABXJemtJHHizB5JcTi5pbQuoCGCp2EwSq7fyUvYb3X2FdHaUPGzGBkWN2vPwCvgiFJjXtRH2wkHnyS3FpE6dSmsAXbycKKr9f3SH9GLxayvSGPSsNFaLmJF4bHXwSa', 'value': 10000000, 'assets': [{'tokenId': '0890ad268cd62f29d09245baa423f2251f1d77ea21443a27d60c3c92377d2e4d', 'amount': 1}]}], 'inputs': ['tUZc71UXrkV7J6yLxJBpzwHBfs3rhChH54Scxa1hABXJemtJHHizB5JcTi5pbQuoCGCp2EwSq7fyUvYb3X2FdHaUPGzGBkWN2vPwCvgiFJjXtRH2wkHnyS3FpE6dSmsAXbycKKr9f3SH9GLxayvSGPSsNFaLmJF4bHXwSa'], 'outputs': ['0008cd03e98b0082050a0878b6d1136f2d8cf5e24f7b6d025b2961bffaf5ca3a537a4f52'], 'dataInputs': [], 'fee': 10000000, 'sendChangeTo': '3WzKopFYhfRGPaUvC7v49DWgeY1efaCD3YpNQ6FZGr2t5mBhWjmw'}\n"
     ]
    }
   ],
   "source": [
    "res = requests.get(ergo_info)\n",
    "if res.ok:\n",
    "    creationHeight = res.json()['fullHeight']\n",
    "\n",
    "# outBox\n",
    "req = {\n",
    "    'requests': [\n",
    "        {\n",
    "            # 'address': userWallet.address,\n",
    "            'address': 'tUZc71UXrkV7J6yLxJBpzwHBfs3rhChH54Scxa1hABXJemtJHHizB5JcTi5pbQuoCGCp2EwSq7fyUvYb3X2FdHaUPGzGBkWN2vPwCvgiFJjXtRH2wkHnyS3FpE6dSmsAXbycKKr9f3SH9GLxayvSGPSsNFaLmJF4bHXwSa',\n",
    "            'value': minTx,            \n",
    "            'assets': [\n",
    "                {\n",
    "                    'tokenId': '0890ad268cd62f29d09245baa423f2251f1d77ea21443a27d60c3c92377d2e4d',\n",
    "                    'amount': 1\n",
    "                }\n",
    "            ],\n",
    "            #'registers': {\n",
    "            #    'R4': '0e240008cd03e98b0082050a0878b6d1136f2d8cf5e24f7b6d025b2961bffaf5ca3a537a4f52',\n",
    "                # 'R5': userWallet.ergoTree()\n",
    "            #},\n",
    "        }\n",
    "    ],\n",
    "    # 'inputs': ['5rBDnj6ACfa4nV7FJBUSHYaJsUFGE5MSGPAEJ51uvD9XsD9BQize9yMAypdmfNFqpZVkzSsrJgmGyujUqYXS1nBURPrJaJZpTjNFVQT6BYNRYWrorK1yPKjee2rfJTUFZWefYgnoRvQnxC'],\n",
    "    'inputs': [\"tUZc71UXrkV7J6yLxJBpzwHBfs3rhChH54Scxa1hABXJemtJHHizB5JcTi5pbQuoCGCp2EwSq7fyUvYb3X2FdHaUPGzGBkWN2vPwCvgiFJjXtRH2wkHnyS3FpE6dSmsAXbycKKr9f3SH9GLxayvSGPSsNFaLmJF4bHXwSa\"],\n",
    "    'outputs': [userWallet.ergoTree()],\n",
    "    'dataInputs': [],\n",
    "    'fee': minTx,\n",
    "    'sendChangeTo': userWallet.address,\n",
    "}\n",
    "\n",
    "# generate unsigned transaction with token info\n",
    "# res = requests.post(wallet_transaction_generateUnsigned, headers=dict(headers, **{'api_key': api_key}), json=req)\n",
    "res = requests.post(wallet_transaction_generate, headers=dict(headers, **{'api_key': api_key}), json=req)\n",
    "\n",
    "# return the unsigned transaction\n",
    "tx = ''\n",
    "if res.ok:\n",
    "    tx = { 'tx': res.json() }\n",
    "    print(tx, req)\n",
    "else:\n",
    "    print(res.content)"
   ]
  },
  {
   "cell_type": "code",
   "execution_count": 131,
   "metadata": {},
   "outputs": [
    {
     "name": "stdout",
     "output_type": "stream",
     "text": [
      "b'{\\n  \"error\" : 400,\\n  \"reason\" : \"bad.request\",\\n  \"detail\" : \"The request content was malformed:\\\\nAttempt to decode value on failed cursor: DownField(requests)\"\\n}'\n"
     ]
    }
   ],
   "source": [
    "res = requests.post(wallet_transaction_send, headers=dict(headers, **{'api_key': api_key}), json=tx)\n",
    "if res.ok:\n",
    "    print(res.json())\n",
    "else:\n",
    "    print(res.content)"
   ]
  },
  {
   "cell_type": "code",
   "execution_count": 126,
   "metadata": {},
   "outputs": [
    {
     "name": "stdout",
     "output_type": "stream",
     "text": [
      "{'id': 'a126ed070cc9a18c964c8fbb4834a34df730cf4fe7f3461639abb4702cf38639', 'inputs': [{'boxId': '8cef93b13316079e3328daab641edbdcf69bcee9268db84f0b7400d3d89ae046', 'spendingProof': {'proofBytes': '9aa4a96b03beda4eb2b0806c5b2dd7a363d42a90d15b8eed8a06aa73b63a0c8d0930e310dd6bcfebbd4cd41bf27579e206d095cd76178497', 'extension': {}}}], 'dataInputs': [], 'outputs': [{'boxId': 'accc70cf8c993d4c84dc3dcc7bd87837ff7de488d569fe82290a36301ac1ea40', 'value': 10000000, 'ergoTree': '100408cd03e98b0082050a0878b6d1136f2d8cf5e24f7b6d025b2961bffaf5ca3a537a4f5205d0d4c29b0c08cd02946f31c13a75cb07571a63e860fa79ebd866278651cb1268d0c70c8c9beaaf4e05f08cc39b0cd801d601db6903db6503feeb02ea027300d19172017301ea027302d19172017303', 'assets': [{'tokenId': '0890ad268cd62f29d09245baa423f2251f1d77ea21443a27d60c3c92377d2e4d', 'amount': 1}], 'creationHeight': 126537, 'additionalRegisters': {}, 'transactionId': 'a126ed070cc9a18c964c8fbb4834a34df730cf4fe7f3461639abb4702cf38639', 'index': 0}, {'boxId': '5a4ab3cfddf9c8c9a8da9a3f48751bde98ba41bc7e561acd8a2464aa711312dd', 'value': 999963300000, 'ergoTree': '0008cd03e98b0082050a0878b6d1136f2d8cf5e24f7b6d025b2961bffaf5ca3a537a4f52', 'assets': [{'tokenId': '81804ebd8d0eb51cfb03af1deb4d60e29be71fc73b9de55078650aa12e171eb9', 'amount': 1000}, {'tokenId': 'ceb55a91810f324e7dc16827113a4839c01ed81b988bbb6c6141fc19b2f80e93', 'amount': 10000000}, {'tokenId': '931aadfacfdde2849a7353472910b2e5e56f5b6f8f2be92859a7ff61d0bf9948', 'amount': 1}, {'tokenId': 'f2d51387a03df2baa68f0a1d32976265a504514423a6c39457701477c59bcaf6', 'amount': 1000}, {'tokenId': '67ba5e86afa43da553c2719870a6ae3d95a99b8fb024aa99edb0ebd57df90c73', 'amount': 10}, {'tokenId': '81ba2a45d4539045995ad6ceeecf9f14b942f944a1c9771430a89c3f88ee898a', 'amount': 981}, {'tokenId': '0890ad268cd62f29d09245baa423f2251f1d77ea21443a27d60c3c92377d2e4d', 'amount': 7}], 'creationHeight': 126537, 'additionalRegisters': {}, 'transactionId': 'a126ed070cc9a18c964c8fbb4834a34df730cf4fe7f3461639abb4702cf38639', 'index': 1}], 'size': 513}\n"
     ]
    }
   ],
   "source": [
    "# make payment to smart contract\n",
    "# req = mintToken(100, 'hello100', 'world token', 8)\n",
    "\n",
    "res = requests.post(wallet_transaction_sign, headers=dict(headers, **{'api_key': api_key}), json=tx)\n",
    "signed = {}\n",
    "if res.ok:\n",
    "    signed = res.json()\n",
    "    print(signed)\n",
    "else:\n",
    "    print(res.content)"
   ]
  },
  {
   "cell_type": "code",
   "execution_count": 37,
   "metadata": {},
   "outputs": [
    {
     "name": "stdout",
     "output_type": "stream",
     "text": [
      "{'id': 'c43b70761bc8ade7cfa9609cfcf1acb588c49dfa4342d4ce6e1b0d9f9ed15026', 'inputs': [{'boxId': '297a801bc98bb751c0b75b4414e2532264caece72808abe90a63b869e475bf92', 'spendingProof': {'proofBytes': '87e0c18772b014da8b60992392d75e906a0fda9c620ddf185aa38e47a8c54adf4ed6bed1c78e84a13d54f05035516997fa3fb4464106e910', 'extension': {}}}, {'boxId': '7862e2fcc43392d4d8dbd27a3f25680ecc28854cc6dbdcd7db3984ca56846485', 'spendingProof': {'proofBytes': '13d376b87f72a5719136f3e9ea6a1c9a0d61b7522b0054d79ed2e2640720c3d2716e80421ebedad0492b2a09de31adc02daad3d11b63525b', 'extension': {}}}], 'dataInputs': [], 'outputs': [{'boxId': '79d7ce811c9ac92d72c9530edd40d2d44f23db5859a8350b1fcdeb9c2bdb72ba', 'value': 10000000, 'ergoTree': '0008cd03e98b0082050a0878b6d1136f2d8cf5e24f7b6d025b2961bffaf5ca3a537a4f52', 'assets': [], 'creationHeight': 125921, 'additionalRegisters': {}, 'transactionId': 'c43b70761bc8ade7cfa9609cfcf1acb588c49dfa4342d4ce6e1b0d9f9ed15026', 'index': 0}, {'boxId': '04d1eb781c4cfba4b913235bf57f1475245c894d8e190edde0c7fb50e29f7768', 'value': 10000000, 'ergoTree': '1005040004000e36100204900108cd0279be667ef9dcbbac55a06295ce870b07029bfcdb2dce28d959f2815b16f81798ea02d192a39a8cc7a701730073011001020402d19683030193a38cc7b2a57300000193c2b2a57301007473027303830108cdeeac93b1a57304', 'assets': [], 'creationHeight': 125921, 'additionalRegisters': {}, 'transactionId': 'c43b70761bc8ade7cfa9609cfcf1acb588c49dfa4342d4ce6e1b0d9f9ed15026', 'index': 1}, {'boxId': '5950d25b4022a5ad6ac2fd73bf27ab3ad6dc5d3ec00fcf0750171e34858e45b8', 'value': 999976600000, 'ergoTree': '0008cd03e98b0082050a0878b6d1136f2d8cf5e24f7b6d025b2961bffaf5ca3a537a4f52', 'assets': [{'tokenId': '81804ebd8d0eb51cfb03af1deb4d60e29be71fc73b9de55078650aa12e171eb9', 'amount': 1000}, {'tokenId': '931aadfacfdde2849a7353472910b2e5e56f5b6f8f2be92859a7ff61d0bf9948', 'amount': 1}, {'tokenId': 'ceb55a91810f324e7dc16827113a4839c01ed81b988bbb6c6141fc19b2f80e93', 'amount': 10000000}, {'tokenId': '0890ad268cd62f29d09245baa423f2251f1d77ea21443a27d60c3c92377d2e4d', 'amount': 8}, {'tokenId': '67ba5e86afa43da553c2719870a6ae3d95a99b8fb024aa99edb0ebd57df90c73', 'amount': 10}, {'tokenId': '81ba2a45d4539045995ad6ceeecf9f14b942f944a1c9771430a89c3f88ee898a', 'amount': 981}, {'tokenId': 'f2d51387a03df2baa68f0a1d32976265a504514423a6c39457701477c59bcaf6', 'amount': 1000}], 'creationHeight': 125921, 'additionalRegisters': {}, 'transactionId': 'c43b70761bc8ade7cfa9609cfcf1acb588c49dfa4342d4ce6e1b0d9f9ed15026', 'index': 2}], 'size': 634}\n"
     ]
    }
   ],
   "source": [
    "request = ''\n",
    "if res.ok:\n",
    "    request = res.json()\n",
    "    print(res.json())\n",
    "else:\n",
    "    print(f'ERR: status code {res.status_code}\\n{res.content}')"
   ]
  },
  {
   "cell_type": "code",
   "execution_count": 38,
   "metadata": {},
   "outputs": [
    {
     "data": {
      "text/plain": [
       "b'{\\n  \"success\": false,\\n  \"detail\": \"address field is required\"\\n}'"
      ]
     },
     "execution_count": 38,
     "metadata": {},
     "output_type": "execute_result"
    }
   ],
   "source": [
    "assembler_url = 'http://localhost:8080'\n",
    "res = requests.post(f'{assembler_url}/follow', headers=headers, json=request)\n",
    "res.content\n",
    "# id = res.json()['id']\n",
    "# id"
   ]
  }
 ],
 "metadata": {
  "interpreter": {
   "hash": "9ef881996440e47991ec8f5e8e48ec897df49313ee41a42c29906b10d4f0879a"
  },
  "kernelspec": {
   "display_name": "Python 3.9.5 64-bit",
   "language": "python",
   "name": "python3"
  },
  "language_info": {
   "codemirror_mode": {
    "name": "ipython",
    "version": 3
   },
   "file_extension": ".py",
   "mimetype": "text/x-python",
   "name": "python",
   "nbconvert_exporter": "python",
   "pygments_lexer": "ipython3",
   "version": "3.9.5"
  },
  "orig_nbformat": 4
 },
 "nbformat": 4,
 "nbformat_minor": 2
}
